{
 "cells": [
  {
   "cell_type": "markdown",
   "metadata": {},
   "source": [
    "### Equations"
   ]
  },
  {
   "cell_type": "markdown",
   "metadata": {},
   "source": [
    "(1) Hyperplane Centroid:\n",
    "\n",
    "$ HC_{k} = {\\bf w}^{T}{\\bf x}- \\frac{1}{ n_{k} } \\sum\\limits_{y_{i}=k} {\\bf w}^{T}{\\bf x_{i}}=0 $"
   ]
  },
  {
   "cell_type": "markdown",
   "metadata": {},
   "source": [
    "(2) Hyperplane Centroid Loss:\n",
    "\n",
    "$ HCL = \\sum\\limits_{i=1}^{k-1}=max(HC_{i} -HC_{i+1} + \\delta,0) $"
   ]
  },
  {
   "cell_type": "markdown",
   "metadata": {},
   "source": [
    "(3) Hyperplane Point Loss:\n",
    "\n",
    "(4) $ HPL_{i}^{+}= max(f(x)-HC)-(HC_{+1}-HC)+\\gamma (HC_{+1} - HC),0) $\n",
    "\n",
    "$ =max(f(x_{i})-\\gamma HC - (1-\\gamma)HC_{+1},0)  $ \n",
    "\n",
    "\n",
    "\n",
    "(5)\n",
    "$ HPL_{i}^{-}= max(\\gamma HC - f(x_{i}) + (1-\\gamma)HC_{-1},0)  $\n",
    "\n",
    "(6)\n",
    "$ HPL = \\sum\\limits_{x_{i}\\in S} HPL_{i}^{+} + HPL_{i}^{-}$"
   ]
  },
  {
   "cell_type": "markdown",
   "metadata": {},
   "source": [
    "(7) $ OHPL = \\alpha HCL + HPL $"
   ]
  },
  {
   "cell_type": "markdown",
   "metadata": {},
   "source": [
    "### Define Loss Functions"
   ]
  },
  {
   "cell_type": "code",
   "execution_count": 1,
   "metadata": {},
   "outputs": [],
   "source": [
    "\"\"\"Metrics to assess performance on ordinal classification task given class prediction\n",
    "   using hyper plane loss techniques \n",
    "\"\"\"\n",
    "\n",
    "# Authors: Bob Vanderheyden <rvanderh@us.ibm.com>\n",
    "#          Ying Xie <yxie2@kennesaw.edu>\n",
    "#         \n",
    "# Contributor: Shayan Shamskolahi\n",
    "\n",
    "import warnings\n",
    "warnings.filterwarnings('ignore')\n",
    "import tensorflow as tf\n",
    "import numpy as np\n",
    "\n",
    "def hp_ordering_loss(y_true, y_pred):\n",
    "\n",
    "    \"\"\" Evaluate the ordinal loss of the predictions y_pred.\n",
    "        \n",
    "        Parameters\n",
    "        ----------\n",
    "        y_true : array-like\n",
    "        y_pred : array-like\n",
    "        \n",
    "        Returns\n",
    "        -------\n",
    "        loss: float\n",
    "            A non-negative floating point value (best value is 0.0)\n",
    "            \n",
    "        Usage\n",
    "        -------\n",
    "        loss = hp_ordering_loss([4,1,2,0,4,2,1], [6.0,3.1,5.2,1.0,4.0,2.2,3.7])\n",
    "        print('Loss: ', loss.numpy())  # Loss: 2.8\n",
    "        \n",
    "        Usage with the `compile` API:\n",
    "       \n",
    "        ```python\n",
    "        model = tf.keras.Model(inputs, outputs)\n",
    "        model.compile(loss=hp_ordering_loss, optimizer='adam', loss=hp_ordering_loss)\n",
    "        ```\n",
    "        \n",
    "    \"\"\"\n",
    "\n",
    "    y_pred = tf.convert_to_tensor(y_pred)\n",
    "    y_true = tf.dtypes.cast(y_true, y_pred.dtype)\n",
    "    y_pred = tf.reshape(tf.transpose(y_pred),[-1,1])\n",
    "\n",
    "    # one hot vector for y_true\n",
    "    ords, idx = tf.unique(tf.reshape(y_true, [-1])) \n",
    "    num = tf.shape(ords)[0]\n",
    "    y_true_1hot = tf.one_hot(idx, num)\n",
    "\n",
    "    # mean distance for each class\n",
    "    yO = tf.transpose(y_pred) @ y_true_1hot\n",
    "    yc = tf.reduce_sum(y_true_1hot,0)\n",
    "    class_mean = tf.divide(yO,yc)  \n",
    "\n",
    "    # min. distance\n",
    "    ords = tf.dtypes.cast(ords, tf.float32)\n",
    "    ords0 = tf.reshape(ords, [-1,1])\n",
    "    ords1 = tf.reshape(ords, [1,-1])\n",
    "    \n",
    "    min_distance = tf.subtract(ords0, ords1)\n",
    "    # apply ReLU\n",
    "    min_distance = tf.nn.relu (min_distance)\n",
    "    \n",
    "    # keeps min. distance\n",
    "    keep = tf.minimum(min_distance,1)\n",
    "\n",
    "    # distance to centroid     \n",
    "    class_mean0 = tf.reshape(class_mean, [-1,1])\n",
    "    class_mean1 = tf.reshape(class_mean, [1,-1])\n",
    "    class_mean = tf.subtract(class_mean0, class_mean1)  \n",
    "    # apply ReLU    \n",
    "    class_mean = tf.nn.relu(class_mean)\n",
    "    centroid_distance = tf.multiply(keep, class_mean)\n",
    "    \n",
    "    hp_ordering_loss = tf.subtract(min_distance,centroid_distance)\n",
    "    # apply ReLU\n",
    "    hp_ordering_loss = tf.nn.relu(hp_ordering_loss)\n",
    "        \n",
    "    return tf.reduce_sum(hp_ordering_loss)\n",
    "\n",
    "\n",
    "def hp_point_loss(y_true, y_pred, minlabel, maxlabel, margin=0.1):\n",
    "    \"\"\" Evaluate the point loss of the predictions y_pred.\n",
    "\n",
    "        Parameters\n",
    "        ----------\n",
    "        y_true : array-like\n",
    "        y_pred : array-like\n",
    "        minlabel : integer\n",
    "        maxlabel : integer\n",
    "        margin : float\n",
    "\n",
    "        Returns\n",
    "        -------\n",
    "        loss: float\n",
    "        A non-negative floating point value (best value is 0.0)\n",
    "        \n",
    "        Usage\n",
    "        -------\n",
    "        loss = hp_point_loss([4,1,2,0,4,2,1], [6.0,3.1,5.2,1.0,4.0,2.2,3.7],0,4,.3)\n",
    "        print('Loss: ', loss.numpy())  # Loss: 3.1\n",
    "        \n",
    "        \n",
    "        Usage with the `compile` API:\n",
    "        \n",
    "        ```python\n",
    "        \n",
    "        Example Keras wrapper for hp_point_loss:\n",
    "        \n",
    "        def get_ohpl_wrapper (min_label, max_label, margin):\n",
    "            def ohpl(y_true, y_pred):\n",
    "                return hp_point_loss(y_true, y_pred, min_label, max_label, margin)\n",
    "            return ohpl\n",
    "\n",
    "        point_loss = get_ohpl_wrapper(0,4,0.01)\n",
    "        \n",
    "        model = tf.keras.Model(inputs, outputs)\n",
    "        model.compile(loss=ohpl_point_loss, optimizer='adam', loss=ohpl_point_loss)\n",
    "        ```\n",
    "        \n",
    "    \"\"\"\n",
    "    \n",
    "    min_label = tf.constant(minlabel, dtype=tf.float32)\n",
    "    max_label = tf.constant(maxlabel, dtype=tf.float32)\n",
    "    margin = tf.constant(margin, dtype=tf.float32) # centroid margin\n",
    "    \n",
    "    y_pred = tf.convert_to_tensor(y_pred)\n",
    "    y_true = tf.dtypes.cast(y_true, y_pred.dtype)\n",
    "    y_pred = tf.reshape(tf.transpose(y_pred),[-1,1])\n",
    "\n",
    "    # one hot vector for y_true\n",
    "    ords, idx = tf.unique(tf.reshape(y_true, [-1])) \n",
    "    num = tf.shape(ords)[0]\n",
    "    y_true_1hot = tf.one_hot(idx, num)\n",
    "\n",
    "    # mean distance for each class\n",
    "    yO = tf.transpose(y_pred) @ y_true_1hot\n",
    "    yc = tf.reduce_sum(y_true_1hot,0)\n",
    "    class_mean = tf.divide(yO,yc) \n",
    " \n",
    "    # mean by class\n",
    "    class_mean = tf.reshape(class_mean,[-1,1])\n",
    "    mean_matrix = y_true_1hot @ class_mean\n",
    "    \n",
    "    lower_bound = tf.subtract(min_label,y_true)\n",
    "    lower_bound = tf.add(lower_bound,1)\n",
    "    lower_bound = tf.multiply(lower_bound,1e9)\n",
    "    # apply ReLU    \n",
    "    lower_bound = tf.nn.relu(lower_bound)\n",
    "    lower_bound = tf.add(margin, lower_bound)\n",
    "\n",
    "    upper_bound = tf.subtract(y_true,max_label)\n",
    "    upper_bound = tf.add(upper_bound,1)\n",
    "    upper_bound = tf.multiply(upper_bound,1e9)\n",
    "    # apply ReLU    \n",
    "    upper_bound = tf.nn.relu(upper_bound)\n",
    "    upper_bound = tf.add(margin, upper_bound)    \n",
    "\n",
    "    upper_loss = tf.add(mean_matrix,upper_bound[:,tf.newaxis])\n",
    "    upper_loss = tf.subtract(y_pred,upper_loss)\n",
    "    # apply ReLU    \n",
    "    upper_loss = tf.nn.relu(upper_loss)\n",
    "    \n",
    "    lower_loss = tf.add(lower_bound[:,tf.newaxis],y_pred)\n",
    "    lower_loss = tf.subtract(mean_matrix,lower_loss)\n",
    "    # apply ReLU    \n",
    "    lower_loss = tf.nn.relu(lower_loss)\n",
    "   \n",
    "    hp_point_loss = tf.add(upper_loss, lower_loss)\n",
    "    \n",
    "    return tf.reduce_sum(hp_point_loss)\n",
    "    \n",
    "    \"\"\"    \n",
    "        References\n",
    "        ----------\n",
    "        .. [1] Vanderheyden, Bob and Ying Xie. Ordinal Hyperplane Loss. (2018). \n",
    "           2018 IEEE International Conference on Big Data (Big Data), \n",
    "           2018 IEEE International Conference On, 2337. https://doi-org.proxy.kennesaw.edu/10.1109/BigData.2018.8622079\n",
    "    \"\"\""
   ]
  },
  {
   "cell_type": "markdown",
   "metadata": {},
   "source": [
    "### Test the result:"
   ]
  },
  {
   "cell_type": "code",
   "execution_count": 2,
   "metadata": {},
   "outputs": [
    {
     "name": "stdout",
     "output_type": "stream",
     "text": [
      "Loss:  2.8000002\n"
     ]
    }
   ],
   "source": [
    "loss = hp_ordering_loss([4,1,2,0,4,2,1], [6.0,3.1,5.2,1.0,4.0,2.2,3.7])\n",
    "print('Loss: ', loss.numpy()) # Loss: 2.8"
   ]
  },
  {
   "cell_type": "code",
   "execution_count": 3,
   "metadata": {},
   "outputs": [
    {
     "name": "stdout",
     "output_type": "stream",
     "text": [
      "Loss:  3.1\n"
     ]
    }
   ],
   "source": [
    "loss = hp_point_loss([4,1,2,0,4,2,1], [6.0,3.1,5.2,1.0,4.0,2.2,3.7],0,4,.3)\n",
    "print('Loss: ', loss.numpy()) # Loss: 3.1"
   ]
  },
  {
   "cell_type": "markdown",
   "metadata": {},
   "source": [
    "### Example wrapper for Keras:"
   ]
  },
  {
   "cell_type": "code",
   "execution_count": 14,
   "metadata": {},
   "outputs": [],
   "source": [
    "# example Keras wrapper for hp_point_loss\n",
    "\n",
    "def get_ohpl_wrapper (min_label, max_label, margin):\n",
    "    def ohpl(y_true, y_pred):\n",
    "        return hp_point_loss(y_true, y_pred, min_label, max_label, margin)\n",
    "    return ohpl\n",
    "\n",
    "point_loss = get_ohpl_wrapper(1,9,0.1)"
   ]
  },
  {
   "cell_type": "markdown",
   "metadata": {},
   "source": [
    "### Wrapper in action - Keras sequential model:"
   ]
  },
  {
   "cell_type": "code",
   "execution_count": 21,
   "metadata": {},
   "outputs": [
    {
     "name": "stdout",
     "output_type": "stream",
     "text": [
      "WARNING:tensorflow:Falling back from v2 loop because of error: Failed to find data adapter that can handle input: <class 'pandas.core.frame.DataFrame'>, <class 'NoneType'>\n",
      "Train on 670 samples, validate on 330 samples\n",
      "Epoch 1/2\n",
      "670/670 [==============================] - 2s 3ms/sample - loss: 0.8286 - accuracy: 0.1791 - val_loss: 0.8182 - val_accuracy: 0.1818\n",
      "Epoch 2/2\n",
      "670/670 [==============================] - 2s 3ms/sample - loss: 0.8208 - accuracy: 0.1791 - val_loss: 0.8182 - val_accuracy: 0.1818\n",
      "WARNING:tensorflow:Falling back from v2 loop because of error: Failed to find data adapter that can handle input: <class 'pandas.core.frame.DataFrame'>, <class 'NoneType'>\n",
      "Train on 670 samples, validate on 330 samples\n",
      "Epoch 1/2\n",
      "670/670 [==============================] - 2s 3ms/sample - loss: 0.0000e+00 - accuracy: 0.1806 - val_loss: 0.0000e+00 - val_accuracy: 0.1818\n",
      "Epoch 2/2\n",
      "670/670 [==============================] - 2s 2ms/sample - loss: 0.0000e+00 - accuracy: 0.1806 - val_loss: 0.0000e+00 - val_accuracy: 0.1818\n"
     ]
    },
    {
     "data": {
      "text/plain": [
       "<tensorflow.python.keras.callbacks.History at 0x7fb7901a8bd0>"
      ]
     },
     "execution_count": 21,
     "metadata": {},
     "output_type": "execute_result"
    }
   ],
   "source": [
    "import pandas as pd\n",
    "from sklearn.model_selection import train_test_split\n",
    "from keras.utils import to_categorical\n",
    "from tensorflow.keras import Sequential\n",
    "from tensorflow.keras.layers import Dense, Dropout\n",
    "\n",
    "pwd = !pwd\n",
    "df = pd.read_csv(pwd[0]+'/datasets-arie_ben_david-era.csv', header=None, sep = ',')\n",
    "\n",
    "X = df.iloc[:,:4]\n",
    "y = df.iloc[:,4]\n",
    "y = to_categorical(y)\n",
    "\n",
    "X_train, X_test, y_train, y_test = train_test_split(X, y, test_size=0.33, random_state=42)\n",
    "\n",
    "model = Sequential()\n",
    "model.add(Dense(40, activation='relu', input_shape=(4, )))\n",
    "model.add(Dropout(0.1))\n",
    "model.add(Dense(24, activation='relu'))\n",
    "model.add(Dropout(0.1))\n",
    "model.add(Dense(28, activation='relu'))\n",
    "model.add(Dropout(0.1))\n",
    "# model.add(Dense(1))\n",
    "model.add(Dense(10, activation = 'softmax'))\n",
    "\n",
    "# # Stage 1: hyperplane ordering loss\n",
    "model.compile(loss=hp_ordering_loss, optimizer=\"adam\",metrics=[\"accuracy\"])\n",
    "model.fit(X_train, y_train, validation_data=(X_test,y_test), epochs=2, batch_size=1)\n",
    "\n",
    "# Stage 2: hyperplane point loss\n",
    "model.compile(loss=point_loss, optimizer=\"adam\",metrics=[\"accuracy\"])\n",
    "model.fit(X_train, y_train, validation_data=(X_test,y_test), epochs=2, batch_size=1)"
   ]
  },
  {
   "cell_type": "markdown",
   "metadata": {},
   "source": [
    "### Alternative Keras implementation using subclassing for point loss"
   ]
  },
  {
   "cell_type": "code",
   "execution_count": 4,
   "metadata": {},
   "outputs": [],
   "source": [
    "from tensorflow import keras\n",
    "\n",
    "class OHPLoss(keras.losses.Loss):\n",
    "    def __init__(self, minlabel, maxlabel, margin=1.0, **kwargs):\n",
    "        self.minlabel = minlabel\n",
    "        self.maxlabel = maxlabel\n",
    "        self.margin = margin\n",
    "        super().__init__(**kwargs)\n",
    "        \n",
    "    def call(self, y_true, y_pred):\n",
    "        min_label = tf.constant(self.minlabel, dtype=tf.float32)\n",
    "        max_label = tf.constant(self.maxlabel, dtype=tf.float32)\n",
    "        margin = tf.constant(self.margin, dtype=tf.float32) # centroid margin\n",
    "\n",
    "        y_pred = tf.convert_to_tensor(y_pred)\n",
    "        y_true = tf.dtypes.cast(y_true, y_pred.dtype)\n",
    "        y_pred = tf.reshape(tf.transpose(y_pred),[-1,1])\n",
    "\n",
    "        # one hot vector for y_true\n",
    "        ords, idx = tf.unique(tf.reshape(y_true, [-1])) \n",
    "        num = tf.shape(ords)[0]\n",
    "        y_true_1hot = tf.one_hot(idx, num)\n",
    "\n",
    "        # mean distance for each class\n",
    "        yO = tf.transpose(y_pred) @ y_true_1hot\n",
    "        yc = tf.reduce_sum(y_true_1hot,0)\n",
    "        class_mean = tf.divide(yO,yc) \n",
    "\n",
    "        # mean by class\n",
    "        class_mean = tf.reshape(class_mean,[-1,1])\n",
    "        mean_matrix = y_true_1hot @ class_mean\n",
    "\n",
    "        lower_bound = tf.subtract(min_label,y_true)\n",
    "        lower_bound = tf.add(lower_bound,1)\n",
    "        lower_bound = tf.multiply(lower_bound,1e9)\n",
    "        # apply ReLU    \n",
    "        lower_bound = tf.nn.relu(lower_bound)\n",
    "        lower_bound = tf.add(margin, lower_bound)\n",
    "\n",
    "        upper_bound = tf.subtract(y_true,max_label)\n",
    "        upper_bound = tf.add(lower_bound,1)\n",
    "        upper_bound = tf.multiply(lower_bound,1e9)\n",
    "        # apply ReLU    \n",
    "        upper_bound = tf.nn.relu(lower_bound)\n",
    "        upper_bound = tf.add(margin, lower_bound)    \n",
    "\n",
    "        upper_loss = tf.add(mean_matrix,upper_bound[:,tf.newaxis])\n",
    "        upper_loss = tf.subtract(y_pred,upper_loss)\n",
    "        # apply ReLU    \n",
    "        upper_loss = tf.nn.relu(upper_loss)\n",
    "\n",
    "        lower_loss = tf.add(lower_bound[:,tf.newaxis],y_pred)\n",
    "        lower_loss = tf.subtract(mean_matrix,lower_loss)\n",
    "        # apply ReLU    \n",
    "        lower_loss = tf.nn.relu(lower_loss)\n",
    "\n",
    "        hp_point_loss = tf.add(upper_loss, lower_loss)\n",
    "\n",
    "        return tf.reshape(hp_point_loss,[1,-1])"
   ]
  },
  {
   "cell_type": "markdown",
   "metadata": {},
   "source": [
    "### Subclassing in action - Keras sequential model:"
   ]
  },
  {
   "cell_type": "code",
   "execution_count": 20,
   "metadata": {},
   "outputs": [
    {
     "name": "stdout",
     "output_type": "stream",
     "text": [
      "WARNING:tensorflow:Falling back from v2 loop because of error: Failed to find data adapter that can handle input: <class 'pandas.core.frame.DataFrame'>, <class 'NoneType'>\n",
      "Train on 670 samples, validate on 330 samples\n",
      "Epoch 1/2\n",
      "670/670 [==============================] - 2s 3ms/sample - loss: 0.8634 - accuracy: 0.1642 - val_loss: 0.8372 - val_accuracy: 0.1636\n",
      "Epoch 2/2\n",
      "670/670 [==============================] - 2s 2ms/sample - loss: 0.8278 - accuracy: 0.1746 - val_loss: 0.8364 - val_accuracy: 0.1636\n",
      "WARNING:tensorflow:Falling back from v2 loop because of error: Failed to find data adapter that can handle input: <class 'pandas.core.frame.DataFrame'>, <class 'NoneType'>\n",
      "Train on 670 samples, validate on 330 samples\n",
      "Epoch 1/2\n",
      "670/670 [==============================] - 2s 3ms/sample - loss: 0.0000e+00 - accuracy: 0.1761 - val_loss: 0.0000e+00 - val_accuracy: 0.1636\n",
      "Epoch 2/2\n",
      "670/670 [==============================] - 2s 2ms/sample - loss: 0.0000e+00 - accuracy: 0.1761 - val_loss: 0.0000e+00 - val_accuracy: 0.1636\n"
     ]
    },
    {
     "data": {
      "text/plain": [
       "<tensorflow.python.keras.callbacks.History at 0x7fb792da30d0>"
      ]
     },
     "execution_count": 20,
     "metadata": {},
     "output_type": "execute_result"
    }
   ],
   "source": [
    "import pandas as pd\n",
    "from sklearn.model_selection import train_test_split\n",
    "from keras.utils import to_categorical\n",
    "from tensorflow.keras import Sequential\n",
    "from tensorflow.keras.layers import Dense, Dropout\n",
    "\n",
    "pwd = !pwd\n",
    "df = pd.read_csv(pwd[0]+'/datasets-arie_ben_david-era.csv', header=None, sep = ',')\n",
    "\n",
    "X = df.iloc[:,:4]\n",
    "y = df.iloc[:,4]\n",
    "\n",
    "X_train, X_test, y_train, y_test = train_test_split(X, y, test_size=0.33, random_state=42)\n",
    "\n",
    "model = Sequential()\n",
    "model.add(Dense(40, activation='relu', input_shape=(4, )))\n",
    "model.add(Dropout(0.1))\n",
    "model.add(Dense(24, activation='relu'))\n",
    "model.add(Dropout(0.1))\n",
    "model.add(Dense(28, activation='relu'))\n",
    "model.add(Dropout(0.1))\n",
    "model.add(Dense(1))\n",
    "\n",
    "# Stage 1: hyperplane ordering loss\n",
    "model.compile(loss=hp_ordering_loss, optimizer=\"adam\")\n",
    "model.fit(X_train, y_train, validation_data=(X_test,y_test), epochs=2, batch_size=1)\n",
    "\n",
    "# Stage 2: hyperplane point loss\n",
    "model.compile(loss=OHPLoss(1,9,0.1), optimizer=\"adam\",metrics=[\"accuracy\"])\n",
    "model.fit(X_train, y_train, validation_data=(X_test,y_test), epochs=2, batch_size=1)"
   ]
  }
 ],
 "metadata": {
  "kernelspec": {
   "display_name": "Data Science Env",
   "language": "python",
   "name": "datascience_env"
  },
  "language_info": {
   "codemirror_mode": {
    "name": "ipython",
    "version": 3
   },
   "file_extension": ".py",
   "mimetype": "text/x-python",
   "name": "python",
   "nbconvert_exporter": "python",
   "pygments_lexer": "ipython3",
   "version": "3.7.4"
  }
 },
 "nbformat": 4,
 "nbformat_minor": 2
}
